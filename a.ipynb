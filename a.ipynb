{
 "cells": [
  {
   "cell_type": "markdown",
   "metadata": {},
   "source": [
    "importar datos desde el DATASET y el libro de codigos que nos ayudará a limpiar variables."
   ]
  },
  {
   "cell_type": "code",
   "execution_count": 171,
   "metadata": {},
   "outputs": [
    {
     "name": "stderr",
     "output_type": "stream",
     "text": [
      "C:\\Users\\Seba\\AppData\\Local\\Temp\\ipykernel_2444\\2241037780.py:12: UnicodeWarning: \n",
      "One or more strings in the dta file could not be decoded using utf-8, and\n",
      "so the fallback encoding of latin-1 is being used.  This can happen when a file\n",
      "has been incorrectly encoded by Stata or some other software. You should verify\n",
      "the string values returned are correct.\n",
      "  data = pd.read_stata(file_path, convert_categoricals=False)\n"
     ]
    },
    {
     "data": {
      "text/plain": [
       "(202231, 918)"
      ]
     },
     "execution_count": 171,
     "metadata": {},
     "output_type": "execute_result"
    }
   ],
   "source": [
    "import pandas as pd\n",
    "import statsmodels.api as sm\n",
    "from sklearn.preprocessing import MinMaxScaler\n",
    "from sklearn.feature_selection import SequentialFeatureSelector\n",
    "from sklearn.linear_model import LinearRegression\n",
    "from sklearn.metrics import mean_squared_error, r2_score\n",
    "import seaborn as sns\n",
    "import matplotlib.pyplot as plt\n",
    "\n",
    "file_path = 'dataset2.dta'\n",
    "excel_file_path = 'Libro_de_codigos_Base_de_datos_Casen_2022(18marzo2024)(1).xlsx'\n",
    "data = pd.read_stata(file_path, convert_categoricals=False)\n",
    "data.shape"
   ]
  },
  {
   "cell_type": "markdown",
   "metadata": {},
   "source": [
    "eliminamos las filas con valores nulos o \"0\" en la variable dependiente"
   ]
  },
  {
   "cell_type": "code",
   "execution_count": 172,
   "metadata": {},
   "outputs": [
    {
     "name": "stdout",
     "output_type": "stream",
     "text": [
      "cantidad de datos antes del drop:  202231\n",
      "cantidad de datos despues del drop:  88976\n"
     ]
    },
    {
     "data": {
      "text/plain": [
       "(88976, 918)"
      ]
     },
     "execution_count": 172,
     "metadata": {},
     "output_type": "execute_result"
    }
   ],
   "source": [
    "print(\"cantidad de datos antes del drop: \", data.shape[0])\n",
    "data = data.dropna(subset=['ytrabajocor'])\n",
    "print(\"cantidad de datos despues del drop: \", data.shape[0])\n",
    "data.shape"
   ]
  },
  {
   "cell_type": "markdown",
   "metadata": {},
   "source": [
    "# Limpieza de variables"
   ]
  },
  {
   "cell_type": "markdown",
   "metadata": {
    "slideshow": {
     "slide_type": "subslide"
    }
   },
   "source": [
    "Eliminacion de columnas con valores nulos mayor al 60%\n"
   ]
  },
  {
   "cell_type": "code",
   "execution_count": 173,
   "metadata": {},
   "outputs": [
    {
     "data": {
      "text/plain": [
       "(88976, 483)"
      ]
     },
     "execution_count": 173,
     "metadata": {},
     "output_type": "execute_result"
    }
   ],
   "source": [
    "umbral_nulos = 0.6\n",
    "data = data.dropna(thresh=len(data) * (1 - umbral_nulos), axis=1)\n",
    "data.shape"
   ]
  },
  {
   "cell_type": "markdown",
   "metadata": {},
   "source": [
    "Eliminar columnas con tipo 'Timestamp' y tipo string"
   ]
  },
  {
   "cell_type": "code",
   "execution_count": 174,
   "metadata": {},
   "outputs": [
    {
     "data": {
      "text/plain": [
       "(88976, 449)"
      ]
     },
     "execution_count": 174,
     "metadata": {},
     "output_type": "execute_result"
    }
   ],
   "source": [
    "data = data.select_dtypes(exclude=['datetime', 'object'])\n",
    "data.shape"
   ]
  },
  {
   "cell_type": "markdown",
   "metadata": {},
   "source": [
    "Definición y eliminación de lista de variables personalizadas a eliminar"
   ]
  },
  {
   "cell_type": "code",
   "execution_count": 175,
   "metadata": {},
   "outputs": [
    {
     "data": {
      "text/plain": [
       "(88976, 131)"
      ]
     },
     "execution_count": 175,
     "metadata": {},
     "output_type": "execute_result"
    }
   ],
   "source": [
    "# Lista de variables personalizadas a eliminar\n",
    "variables_limpieza = ['v27a', 'v27b', 'v28', 'v29a','v13_propia', 'v13_arrendada', 'v13_cedida', 'v13b_1', 'v13b_2', 'v13b_3', 'v13b_4', 'v13b_5', 'v13b_6', 'v13b_7','asal','h5_1a', 'h5_1b', 'h5_20', 'h5_2', 'n_nucleos', 'nucleo','r8a', 'r8b', 'r8c', 'r8d', 'r8e', 'r8f', 'r8g', 'r8h', 'r9a','v18','expr','expr_osig','varstrat','varunit','os_presente','e6a_asiste','e6a_no_asiste']  \n",
    "limpieza_Y = pd.read_excel(excel_file_path, sheet_name='Y', usecols=[1], skiprows=3).iloc[:, 0].dropna().tolist()\n",
    "limpieza_Cepal = pd.read_excel(excel_file_path, sheet_name='Ing Cepal', usecols=[1], skiprows=3).iloc[:, 0].dropna().tolist()\n",
    "limpieza_MDSF = pd.read_excel(excel_file_path, sheet_name='Ing MDSF', usecols=[1], skiprows=3).iloc[:, 0].dropna().tolist()\n",
    "limpieza_HdR = pd.read_excel(excel_file_path, sheet_name='HdR', usecols=[1], skiprows=3).iloc[:, 0].dropna().tolist()\n",
    "limpieza_PM = pd.read_excel(excel_file_path, sheet_name='PM', usecols=[1], skiprows=3).iloc[:, 0].dropna().tolist()\n",
    "limpieza_S = pd.read_excel(excel_file_path, sheet_name='S', usecols=[1], skiprows=3).iloc[:, 0].dropna().tolist()\n",
    "limpieza_R = pd.read_excel(excel_file_path, sheet_name='R', usecols=[1], skiprows=3).iloc[:, 0].dropna().tolist()\n",
    "limpieza_H = pd.read_excel(excel_file_path, sheet_name='H', usecols=[1], skiprows=3).iloc[:, 0].dropna().tolist()\n",
    "\n",
    "variables_limpieza += limpieza_H + limpieza_Y + limpieza_Cepal + limpieza_MDSF + limpieza_HdR + limpieza_PM + limpieza_S + limpieza_R\n",
    "variables_mantener = ['sexo', 'ecivil', 'h7a', 'h7b', 'h7c', 'h7d', 'h7e', 'h7f','edad','s13', 's16', 's28', 's27a', 's34a', 's34c','ytrabajocor', 'region','area']\n",
    "\n",
    "for variable in variables_mantener:\n",
    "    variables_limpieza.remove(variable)\n",
    "\n",
    "# Eliminar variables personalizadas\n",
    "data = data.drop(columns=variables_limpieza, errors='ignore')\n",
    "data.shape"
   ]
  },
  {
   "cell_type": "code",
   "execution_count": 176,
   "metadata": {},
   "outputs": [
    {
     "data": {
      "text/plain": [
       "(45770, 131)"
      ]
     },
     "execution_count": 176,
     "metadata": {},
     "output_type": "execute_result"
    }
   ],
   "source": [
    "# Eliminar filas con valores atípicos basados en el rango intercuartílico\n",
    "Q1 = data.quantile(0.05)\n",
    "Q3 = data.quantile(0.95)\n",
    "IQR = Q3 - Q1\n",
    "data = data[~((data < (Q1 - 1.5 * IQR)) | (data > (Q3 + 1.5 * IQR))).any(axis=1)]\n",
    "data.shape"
   ]
  },
  {
   "cell_type": "markdown",
   "metadata": {},
   "source": [
    "reemplazamos los datos con valores NAN (vacios) con el promedio de los"
   ]
  },
  {
   "cell_type": "code",
   "execution_count": 177,
   "metadata": {},
   "outputs": [
    {
     "data": {
      "text/plain": [
       "(45770, 131)"
      ]
     },
     "execution_count": 177,
     "metadata": {},
     "output_type": "execute_result"
    }
   ],
   "source": [
    "data = data.fillna(data.mean())\n",
    "data.shape"
   ]
  },
  {
   "cell_type": "markdown",
   "metadata": {},
   "source": [
    "se normalizan los datos con valores entre 0 y 1"
   ]
  },
  {
   "cell_type": "code",
   "execution_count": 178,
   "metadata": {},
   "outputs": [],
   "source": [
    "# Normalización de datos\n",
    "ss = MinMaxScaler()\n",
    "data = pd.DataFrame(ss.fit_transform(data), columns=data.columns)"
   ]
  },
  {
   "cell_type": "markdown",
   "metadata": {},
   "source": [
    "    X = data_scaled.drop(columns=['ytrabajocor']): Esto crea una nueva DataFrame X que contiene todas las columnas de data_scaled excepto ytrabajocor.\n",
    "    \n",
    "    y = data_scaled['ytrabajocor']: Esto crea una Serie y que contiene solo la columna ytrabajocor de data_scaled."
   ]
  },
  {
   "cell_type": "code",
   "execution_count": 179,
   "metadata": {},
   "outputs": [],
   "source": [
    "# Separar variables dependientes e independientes\n",
    "X = data.drop(columns=['ytrabajocor'])\n",
    "y = data['ytrabajocor']"
   ]
  },
  {
   "cell_type": "code",
   "execution_count": 180,
   "metadata": {},
   "outputs": [
    {
     "name": "stdout",
     "output_type": "stream",
     "text": [
      "                            OLS Regression Results                            \n",
      "==============================================================================\n",
      "Dep. Variable:            ytrabajocor   R-squared:                       0.891\n",
      "Model:                            OLS   Adj. R-squared:                  0.891\n",
      "Method:                 Least Squares   F-statistic:                 4.679e+04\n",
      "Date:                Mon, 27 May 2024   Prob (F-statistic):               0.00\n",
      "Time:                        01:46:51   Log-Likelihood:                 82368.\n",
      "No. Observations:               45770   AIC:                        -1.647e+05\n",
      "Df Residuals:                   45761   BIC:                        -1.646e+05\n",
      "Df Model:                           8                                         \n",
      "Covariance Type:            nonrobust                                         \n",
      "==============================================================================\n",
      "                 coef    std err          t      P>|t|      [0.025      0.975]\n",
      "------------------------------------------------------------------------------\n",
      "const          0.0040      0.001      4.790      0.000       0.002       0.006\n",
      "x1            -0.0089      0.001    -13.222      0.000      -0.010      -0.008\n",
      "x2            -0.0072      0.001    -11.712      0.000      -0.008      -0.006\n",
      "x3             0.1893      0.009     20.345      0.000       0.171       0.208\n",
      "x4             0.0252      0.002     14.531      0.000       0.022       0.029\n",
      "x5            -0.1466      0.010    -14.574      0.000      -0.166      -0.127\n",
      "x6             0.8782      0.003    273.777      0.000       0.872       0.885\n",
      "x7            -0.0966      0.001   -107.850      0.000      -0.098      -0.095\n",
      "x8             0.0070      0.000     15.595      0.000       0.006       0.008\n",
      "==============================================================================\n",
      "Omnibus:                    49004.850   Durbin-Watson:                   1.858\n",
      "Prob(Omnibus):                  0.000   Jarque-Bera (JB):          6308272.895\n",
      "Skew:                           5.251   Prob(JB):                         0.00\n",
      "Kurtosis:                      59.546   Cond. No.                         116.\n",
      "==============================================================================\n",
      "\n",
      "Notes:\n",
      "[1] Standard Errors assume that the covariance matrix of the errors is correctly specified.\n"
     ]
    },
    {
     "data": {
      "image/png": "[encoded data removed]",
      "text/plain": [
       "<Figure size 640x480 with 2 Axes>"
      ]
     },
     "metadata": {},
     "output_type": "display_data"
    }
   ],
   "source": [
    "# Forward Feature Selection\n",
    "selector_forward = SequentialFeatureSelector(LinearRegression(), n_features_to_select=8, direction='forward', scoring='r2')\n",
    "selector_forward.fit(X, y)\n",
    "\n",
    "# Transform data\n",
    "X_selected_forward = selector_forward.transform(X)\n",
    "\n",
    "# Add constant for regression\n",
    "X_selected_forward = sm.add_constant(X_selected_forward)\n",
    "\n",
    "# Fit the model\n",
    "model_forward = sm.OLS(y, X_selected_forward).fit()\n",
    "\n",
    "# Print model summary\n",
    "print(model_forward.summary())\n",
    "\n",
    "# Visualize the correlation matrix of selected features\n",
    "selected_features_forward = X.columns[selector_forward.get_support()]\n",
    "X_train_forward_df = pd.DataFrame(X_selected_forward, columns=['const'] + list(selected_features_forward))\n",
    "sns.heatmap(X_train_forward_df.corr(), annot=False, cmap='coolwarm', center=0)\n",
    "plt.show()"
   ]
  },
  {
   "cell_type": "code",
   "execution_count": 181,
   "metadata": {},
   "outputs": [
    {
     "name": "stdout",
     "output_type": "stream",
     "text": [
      "Variables seleccionadas (hacia adelante): Index(['rama1', 'o26a', 'y1', 'v19', 'y0101', 'yoprcor', 'activ', 'cotiza'], dtype='object')\n"
     ]
    }
   ],
   "source": [
    "# Obtener las características seleccionadas\n",
    "selected_features_forward = X.columns[selector_forward.support_]\n",
    "\n",
    "# Imprimir las características seleccionadas\n",
    "print(\"Variables seleccionadas (hacia adelante):\", selected_features_forward)\n"
   ]
  }
 ],
 "metadata": {
  "kernelspec": {
   "display_name": "Python 3",
   "language": "python",
   "name": "python3"
  },
  "language_info": {
   "codemirror_mode": {
    "name": "ipython",
    "version": 3
   },
   "file_extension": ".py",
   "mimetype": "text/x-python",
   "name": "python",
   "nbconvert_exporter": "python",
   "pygments_lexer": "ipython3",
   "version": "3.11.4"
  }
 },
 "nbformat": 4,
 "nbformat_minor": 2
}
